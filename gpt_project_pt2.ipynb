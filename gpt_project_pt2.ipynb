{
    "cells": [
        {
            "cell_type": "code",
            "execution_count": 1,
            "metadata": {},
            "outputs": [
                {
                    "name": "stdout",
                    "output_type": "stream",
                    "text": [
                        "Defaulting to user installation because normal site-packages is not writeable\n",
                        "Requirement already satisfied: transformers in /home/paxx/.local/lib/python3.10/site-packages (4.28.0.dev0)\n",
                        "Requirement already satisfied: datasets in /home/paxx/.local/lib/python3.10/site-packages (2.10.2.dev0)\n",
                        "Requirement already satisfied: sentencepiece in /home/paxx/.local/lib/python3.10/site-packages (0.1.97)\n",
                        "Requirement already satisfied: huggingface-hub<1.0,>=0.11.0 in /home/paxx/.local/lib/python3.10/site-packages (from transformers) (0.12.1)\n",
                        "Requirement already satisfied: numpy>=1.17 in /home/paxx/.local/lib/python3.10/site-packages (from transformers) (1.23.1)\n",
                        "Requirement already satisfied: tqdm>=4.27 in /home/paxx/.local/lib/python3.10/site-packages (from transformers) (4.64.1)\n",
                        "Requirement already satisfied: packaging>=20.0 in /home/paxx/.local/lib/python3.10/site-packages (from transformers) (21.3)\n",
                        "Requirement already satisfied: tokenizers!=0.11.3,<0.14,>=0.11.1 in /home/paxx/.local/lib/python3.10/site-packages (from transformers) (0.13.1)\n",
                        "Requirement already satisfied: requests in /usr/lib/python3/dist-packages (from transformers) (2.25.1)\n",
                        "Requirement already satisfied: regex!=2019.12.17 in /home/paxx/.local/lib/python3.10/site-packages (from transformers) (2022.9.13)\n",
                        "Requirement already satisfied: pyyaml>=5.1 in /usr/lib/python3/dist-packages (from transformers) (5.4.1)\n",
                        "Requirement already satisfied: filelock in /home/paxx/.local/lib/python3.10/site-packages (from transformers) (3.8.0)\n",
                        "Requirement already satisfied: fsspec[http]>=2021.11.1 in /home/paxx/.local/lib/python3.10/site-packages (from datasets) (2022.8.2)\n",
                        "Requirement already satisfied: aiohttp in /home/paxx/.local/lib/python3.10/site-packages (from datasets) (3.8.3)\n",
                        "Requirement already satisfied: multiprocess in /home/paxx/.local/lib/python3.10/site-packages (from datasets) (0.70.13)\n",
                        "Requirement already satisfied: pyarrow>=6.0.0 in /home/paxx/.local/lib/python3.10/site-packages (from datasets) (9.0.0)\n",
                        "Requirement already satisfied: pandas in /home/paxx/.local/lib/python3.10/site-packages (from datasets) (1.4.3)\n",
                        "Requirement already satisfied: dill<0.3.7,>=0.3.0 in /home/paxx/.local/lib/python3.10/site-packages (from datasets) (0.3.5.1)\n",
                        "Requirement already satisfied: responses<0.19 in /home/paxx/.local/lib/python3.10/site-packages (from datasets) (0.18.0)\n",
                        "Requirement already satisfied: xxhash in /home/paxx/.local/lib/python3.10/site-packages (from datasets) (3.1.0)\n",
                        "Requirement already satisfied: frozenlist>=1.1.1 in /home/paxx/.local/lib/python3.10/site-packages (from aiohttp->datasets) (1.3.1)\n",
                        "Requirement already satisfied: charset-normalizer<3.0,>=2.0 in /home/paxx/.local/lib/python3.10/site-packages (from aiohttp->datasets) (2.1.1)\n",
                        "Requirement already satisfied: async-timeout<5.0,>=4.0.0a3 in /home/paxx/.local/lib/python3.10/site-packages (from aiohttp->datasets) (4.0.2)\n",
                        "Requirement already satisfied: yarl<2.0,>=1.0 in /home/paxx/.local/lib/python3.10/site-packages (from aiohttp->datasets) (1.8.1)\n",
                        "Requirement already satisfied: multidict<7.0,>=4.5 in /home/paxx/.local/lib/python3.10/site-packages (from aiohttp->datasets) (6.0.2)\n",
                        "Requirement already satisfied: attrs>=17.3.0 in /home/paxx/.local/lib/python3.10/site-packages (from aiohttp->datasets) (22.1.0)\n",
                        "Requirement already satisfied: aiosignal>=1.1.2 in /home/paxx/.local/lib/python3.10/site-packages (from aiohttp->datasets) (1.2.0)\n",
                        "Requirement already satisfied: typing-extensions>=3.7.4.3 in /home/paxx/.local/lib/python3.10/site-packages (from huggingface-hub<1.0,>=0.11.0->transformers) (4.3.0)\n",
                        "Requirement already satisfied: pyparsing!=3.0.5,>=2.0.2 in /usr/lib/python3/dist-packages (from packaging>=20.0->transformers) (2.4.7)\n",
                        "Requirement already satisfied: urllib3>=1.25.10 in /home/paxx/.local/lib/python3.10/site-packages (from responses<0.19->datasets) (1.26.15)\n",
                        "Requirement already satisfied: pytz>=2020.1 in /usr/lib/python3/dist-packages (from pandas->datasets) (2022.1)\n",
                        "Requirement already satisfied: python-dateutil>=2.8.1 in /home/paxx/.local/lib/python3.10/site-packages (from pandas->datasets) (2.8.2)\n",
                        "Requirement already satisfied: six>=1.5 in /usr/lib/python3/dist-packages (from python-dateutil>=2.8.1->pandas->datasets) (1.16.0)\n",
                        "Requirement already satisfied: idna>=2.0 in /home/paxx/.local/lib/python3.10/site-packages (from yarl<2.0,>=1.0->aiohttp->datasets) (2.10)\n",
                        "Defaulting to user installation because normal site-packages is not writeable\n",
                        "Requirement already satisfied: transformers in /home/paxx/.local/lib/python3.10/site-packages (4.28.0.dev0)\n",
                        "Requirement already satisfied: regex!=2019.12.17 in /home/paxx/.local/lib/python3.10/site-packages (from transformers) (2022.9.13)\n",
                        "Requirement already satisfied: tqdm>=4.27 in /home/paxx/.local/lib/python3.10/site-packages (from transformers) (4.64.1)\n",
                        "Requirement already satisfied: tokenizers!=0.11.3,<0.14,>=0.11.1 in /home/paxx/.local/lib/python3.10/site-packages (from transformers) (0.13.1)\n",
                        "Requirement already satisfied: requests in /usr/lib/python3/dist-packages (from transformers) (2.25.1)\n",
                        "Requirement already satisfied: packaging>=20.0 in /home/paxx/.local/lib/python3.10/site-packages (from transformers) (21.3)\n",
                        "Requirement already satisfied: huggingface-hub<1.0,>=0.11.0 in /home/paxx/.local/lib/python3.10/site-packages (from transformers) (0.12.1)\n",
                        "Requirement already satisfied: numpy>=1.17 in /home/paxx/.local/lib/python3.10/site-packages (from transformers) (1.23.1)\n",
                        "Requirement already satisfied: pyyaml>=5.1 in /usr/lib/python3/dist-packages (from transformers) (5.4.1)\n",
                        "Requirement already satisfied: filelock in /home/paxx/.local/lib/python3.10/site-packages (from transformers) (3.8.0)\n",
                        "Requirement already satisfied: typing-extensions>=3.7.4.3 in /home/paxx/.local/lib/python3.10/site-packages (from huggingface-hub<1.0,>=0.11.0->transformers) (4.3.0)\n",
                        "Requirement already satisfied: pyparsing!=3.0.5,>=2.0.2 in /usr/lib/python3/dist-packages (from packaging>=20.0->transformers) (2.4.7)\n"
                    ]
                }
            ],
            "source": [
                "!pip install transformers datasets sentencepiece\n",
                "!pip install -q pytorch-lightning wandb\n",
                "!pip install transformers"
            ]
        },
        {
            "cell_type": "code",
            "execution_count": 1,
            "metadata": {},
            "outputs": [
                {
                    "name": "stderr",
                    "output_type": "stream",
                    "text": [
                        "/usr/lib/python3/dist-packages/pkg_resources/__init__.py:116: PkgResourcesDeprecationWarning: 1.1build1 is an invalid version and will not be supported in a future release\n",
                        "  warnings.warn(\n",
                        "/usr/lib/python3/dist-packages/pkg_resources/__init__.py:116: PkgResourcesDeprecationWarning: 0.1.43ubuntu1 is an invalid version and will not be supported in a future release\n",
                        "  warnings.warn(\n",
                        "/usr/lib/python3/dist-packages/pkg_resources/__init__.py:116: PkgResourcesDeprecationWarning: 1.1build1 is an invalid version and will not be supported in a future release\n",
                        "  warnings.warn(\n",
                        "/usr/lib/python3/dist-packages/pkg_resources/__init__.py:116: PkgResourcesDeprecationWarning: 0.1.43ubuntu1 is an invalid version and will not be supported in a future release\n",
                        "  warnings.warn(\n",
                        "2023-05-08 02:05:51.349582: I tensorflow/core/platform/cpu_feature_guard.cc:193] This TensorFlow binary is optimized with oneAPI Deep Neural Network Library (oneDNN) to use the following CPU instructions in performance-critical operations:  AVX2 FMA\n",
                        "To enable them in other operations, rebuild TensorFlow with the appropriate compiler flags.\n",
                        "2023-05-08 02:05:53.171477: W tensorflow/compiler/xla/stream_executor/platform/default/dso_loader.cc:64] Could not load dynamic library 'libnvinfer.so.7'; dlerror: libnvinfer.so.7: cannot open shared object file: No such file or directory\n",
                        "2023-05-08 02:05:53.171721: W tensorflow/compiler/xla/stream_executor/platform/default/dso_loader.cc:64] Could not load dynamic library 'libnvinfer_plugin.so.7'; dlerror: libnvinfer_plugin.so.7: cannot open shared object file: No such file or directory\n",
                        "2023-05-08 02:05:53.171738: W tensorflow/compiler/tf2tensorrt/utils/py_utils.cc:38] TF-TRT Warning: Cannot dlopen some TensorRT libraries. If you would like to use Nvidia GPU with TensorRT, please make sure the missing libraries mentioned above are installed properly.\n"
                    ]
                }
            ],
            "source": [
                "from pytorch_lightning import Trainer\n",
                "from transformers import DataCollatorForLanguageModeling\n",
                "from transformers import GPT2Tokenizer, GPT2LMHeadModel\n",
                "from transformers import Trainer, TrainingArguments\n",
                "from torch.utils.data import DataLoader\n",
                "import pandas as pd"
            ]
        },
        {
            "attachments": {},
            "cell_type": "markdown",
            "metadata": {},
            "source": [
                "#### parameters"
            ]
        },
        {
            "cell_type": "code",
            "execution_count": 2,
            "metadata": {},
            "outputs": [],
            "source": [
                "train_file_path = \"Datasets_PART2/SPoC/train/split/spoc-train-train.tsv\"\n",
                "test_file_path = \"Datasets_PART2/SPoC/train/split/spoc-train-test.tsv\"\n",
                "eval_file_path = \"Datasets_PART2/SPoC/train/split/spoc-train-eval.tsv\"\n",
                "model_name = 'gpt2'\n",
                "output_dir = 'result/'\n",
                "overwrite_output_dir = True\n",
                "per_device_train_batch_size = 1\n",
                "num_train_epochs = 5.0\n",
                "save_steps = 20000\n",
                "max_input_length = 256\n",
                "max_target_length = 128"
            ]
        },
        {
            "attachments": {},
            "cell_type": "markdown",
            "metadata": {},
            "source": [
                "#### load datasets"
            ]
        },
        {
            "cell_type": "code",
            "execution_count": 5,
            "metadata": {},
            "outputs": [],
            "source": [
                "training_sample = pd.read_table(train_file_path, usecols=[\"text\",\"code\"])\n",
                "test_sample = pd.read_table(test_file_path, usecols=[\"text\",\"code\"])\n",
                "eval_sample = pd.read_table(eval_file_path, usecols=[\"text\",\"code\"])\n",
                "\n",
                "training_sample = training_sample.dropna()\n",
                "test_sample = test_sample.dropna()\n",
                "eval_sample = eval_sample.dropna()\n",
                "\n",
                "training_sample = training_sample.reset_index(drop=True)\n",
                "test_sample = test_sample.reset_index(drop=True)\n",
                "eval_sample = eval_sample.reset_index(drop=True)\n",
                "\n",
                "bleu_sample = training_sample[100000:]\n",
                "bleu_sample = bleu_sample[:1000]\n",
                "bleu_test_set = bleu_sample['code']\n",
                "bleu_refs = bleu_sample['text']\n",
                "bleu_test_set = bleu_test_set.to_numpy()\n",
                "bleu_refs = bleu_refs.to_numpy()\n",
                "\n",
                "training_sample = training_sample.iloc[:100000]\n",
                "test_sample = test_sample.iloc[:15000]\n",
                "eval_sample = eval_sample.iloc[:15000]"
            ]
        },
        {
            "attachments": {},
            "cell_type": "markdown",
            "metadata": {},
            "source": [
                "#### preprocess dataset"
            ]
        },
        {
            "cell_type": "code",
            "execution_count": 6,
            "metadata": {},
            "outputs": [],
            "source": [
                "tokenizer = GPT2Tokenizer.from_pretrained(model_name)\n",
                "tokenizer.pad_token = tokenizer.eos_token\n",
                "tokenizer.save_pretrained(output_dir)\n",
                "\n",
                "\n",
                "def preprocess_samples(dataset):\n",
                "    text = dataset[\"text\"]\n",
                "    code = dataset[\"code\"]\n",
                "\n",
                "    model_inputs = tokenizer(code, max_length = max_input_length, padding=\"max_length\", truncation=True)\n",
                "    labels = tokenizer(text, max_length=max_target_length, padding=\"max_length\", truncation=True).input_ids\n",
                "    \n",
                "    labels_with_ignore_index = []\n",
                "    for labels_sample in labels:\n",
                "        labels_sample = [label if label != 0 else -100 for label in labels_sample]\n",
                "        labels_with_ignore_index.append(labels_sample)\n",
                "  \n",
                "    model_inputs[\"labels\"] = labels_with_ignore_index\n",
                "    return model_inputs"
            ]
        },
        {
            "cell_type": "code",
            "execution_count": 7,
            "metadata": {},
            "outputs": [
                {
                    "data": {
                        "application/vnd.jupyter.widget-view+json": {
                            "model_id": "04ef13ad57e14ad0b4b19677c2c11a78",
                            "version_major": 2,
                            "version_minor": 0
                        },
                        "text/plain": [
                            "Map:   0%|          | 0/100000 [00:00<?, ? examples/s]"
                        ]
                    },
                    "metadata": {},
                    "output_type": "display_data"
                },
                {
                    "data": {
                        "application/vnd.jupyter.widget-view+json": {
                            "model_id": "23a5f3c4367447a58a50ef4b268d164f",
                            "version_major": 2,
                            "version_minor": 0
                        },
                        "text/plain": [
                            "Map:   0%|          | 0/15000 [00:00<?, ? examples/s]"
                        ]
                    },
                    "metadata": {},
                    "output_type": "display_data"
                },
                {
                    "data": {
                        "application/vnd.jupyter.widget-view+json": {
                            "model_id": "d554872b36e24feaba6bfa9cdb4865be",
                            "version_major": 2,
                            "version_minor": 0
                        },
                        "text/plain": [
                            "Map:   0%|          | 0/15000 [00:00<?, ? examples/s]"
                        ]
                    },
                    "metadata": {},
                    "output_type": "display_data"
                },
                {
                    "data": {
                        "text/plain": [
                            "DatasetDict({\n",
                            "    train: Dataset({\n",
                            "        features: ['text', 'code', 'input_ids', 'attention_mask', 'labels'],\n",
                            "        num_rows: 100000\n",
                            "    })\n",
                            "    test: Dataset({\n",
                            "        features: ['text', 'code', 'input_ids', 'attention_mask', 'labels'],\n",
                            "        num_rows: 15000\n",
                            "    })\n",
                            "    eval: Dataset({\n",
                            "        features: ['text', 'code', 'input_ids', 'attention_mask', 'labels'],\n",
                            "        num_rows: 15000\n",
                            "    })\n",
                            "})"
                        ]
                    },
                    "execution_count": 7,
                    "metadata": {},
                    "output_type": "execute_result"
                }
            ],
            "source": [
                "from datasets import Dataset, load_dataset, DatasetDict\n",
                "train = Dataset.from_dict(training_sample)\n",
                "test = Dataset.from_dict(test_sample)\n",
                "eval = Dataset.from_dict(eval_sample)\n",
                "\n",
                "dataset = DatasetDict({\"train\" : train, \"test\": test,\"eval\": eval})\n",
                "dataset = dataset.map(preprocess_samples, batched=True)\n",
                "dataset"
            ]
        },
        {
            "cell_type": "code",
            "execution_count": 24,
            "metadata": {},
            "outputs": [],
            "source": [
                "dataset.set_format(type=\"torch\", columns=['input_ids','attention_mask','labels'])\n",
                "train_dataloader = DataLoader(dataset['train'], batch_size=8)\n",
                "valid_dataloader = DataLoader(dataset['eval'], batch_size=4)\n",
                "test_dataloader = DataLoader(dataset['test'], batch_size=4)"
            ]
        },
        {
            "attachments": {},
            "cell_type": "markdown",
            "metadata": {},
            "source": [
                "#### training"
            ]
        },
        {
            "cell_type": "code",
            "execution_count": 25,
            "metadata": {},
            "outputs": [],
            "source": [
                "def train_func(train_file_path,\n",
                "                model_name,\n",
                "                output_dir,\n",
                "                overwrite_output_dir,\n",
                "                per_device_train_batch_size,\n",
                "                num_train_epochs,\n",
                "                save_steps):\n",
                "        \n",
                "        model = GPT2LMHeadModel.from_pretrained(model_name)\n",
                "        model.save_pretrained(output_dir)\n",
                "\n",
                "        training_args = TrainingArguments(\n",
                "                output_dir=output_dir,\n",
                "                overwrite_output_dir=overwrite_output_dir,\n",
                "                per_device_train_batch_size=per_device_train_batch_size,\n",
                "                num_train_epochs=num_train_epochs,\n",
                "                save_steps=save_steps,\n",
                "            )\n",
                "\n",
                "        trainer = Trainer(\n",
                "                model=model,\n",
                "                args=training_args,\n",
                "                data_collator=DataCollatorForLanguageModeling(tokenizer=tokenizer, mlm=False),\n",
                "                train_dataset=train_dataloader,\n",
                "        )\n",
                "        \n",
                "        trainer.train()\n",
                "        trainer.save_model()"
            ]
        },
        {
            "cell_type": "code",
            "execution_count": null,
            "metadata": {},
            "outputs": [],
            "source": [
                "train_func(\n",
                "    train_file_path=train_file_path,\n",
                "    model_name=model_name,\n",
                "    output_dir=output_dir,\n",
                "    overwrite_output_dir=overwrite_output_dir,\n",
                "    per_device_train_batch_size=per_device_train_batch_size,\n",
                "    num_train_epochs=num_train_epochs,\n",
                "    save_steps=save_steps\n",
                ")"
            ]
        },
        {
            "cell_type": "code",
            "execution_count": 8,
            "metadata": {},
            "outputs": [
                {
                    "data": {
                        "text/plain": [
                            "GPT2LMHeadModel(\n",
                            "  (transformer): GPT2Model(\n",
                            "    (wte): Embedding(50257, 768)\n",
                            "    (wpe): Embedding(1024, 768)\n",
                            "    (drop): Dropout(p=0.1, inplace=False)\n",
                            "    (h): ModuleList(\n",
                            "      (0): GPT2Block(\n",
                            "        (ln_1): LayerNorm((768,), eps=1e-05, elementwise_affine=True)\n",
                            "        (attn): GPT2Attention(\n",
                            "          (c_attn): Conv1D()\n",
                            "          (c_proj): Conv1D()\n",
                            "          (attn_dropout): Dropout(p=0.1, inplace=False)\n",
                            "          (resid_dropout): Dropout(p=0.1, inplace=False)\n",
                            "        )\n",
                            "        (ln_2): LayerNorm((768,), eps=1e-05, elementwise_affine=True)\n",
                            "        (mlp): GPT2MLP(\n",
                            "          (c_fc): Conv1D()\n",
                            "          (c_proj): Conv1D()\n",
                            "          (act): NewGELUActivation()\n",
                            "          (dropout): Dropout(p=0.1, inplace=False)\n",
                            "        )\n",
                            "      )\n",
                            "      (1): GPT2Block(\n",
                            "        (ln_1): LayerNorm((768,), eps=1e-05, elementwise_affine=True)\n",
                            "        (attn): GPT2Attention(\n",
                            "          (c_attn): Conv1D()\n",
                            "          (c_proj): Conv1D()\n",
                            "          (attn_dropout): Dropout(p=0.1, inplace=False)\n",
                            "          (resid_dropout): Dropout(p=0.1, inplace=False)\n",
                            "        )\n",
                            "        (ln_2): LayerNorm((768,), eps=1e-05, elementwise_affine=True)\n",
                            "        (mlp): GPT2MLP(\n",
                            "          (c_fc): Conv1D()\n",
                            "          (c_proj): Conv1D()\n",
                            "          (act): NewGELUActivation()\n",
                            "          (dropout): Dropout(p=0.1, inplace=False)\n",
                            "        )\n",
                            "      )\n",
                            "      (2): GPT2Block(\n",
                            "        (ln_1): LayerNorm((768,), eps=1e-05, elementwise_affine=True)\n",
                            "        (attn): GPT2Attention(\n",
                            "          (c_attn): Conv1D()\n",
                            "          (c_proj): Conv1D()\n",
                            "          (attn_dropout): Dropout(p=0.1, inplace=False)\n",
                            "          (resid_dropout): Dropout(p=0.1, inplace=False)\n",
                            "        )\n",
                            "        (ln_2): LayerNorm((768,), eps=1e-05, elementwise_affine=True)\n",
                            "        (mlp): GPT2MLP(\n",
                            "          (c_fc): Conv1D()\n",
                            "          (c_proj): Conv1D()\n",
                            "          (act): NewGELUActivation()\n",
                            "          (dropout): Dropout(p=0.1, inplace=False)\n",
                            "        )\n",
                            "      )\n",
                            "      (3): GPT2Block(\n",
                            "        (ln_1): LayerNorm((768,), eps=1e-05, elementwise_affine=True)\n",
                            "        (attn): GPT2Attention(\n",
                            "          (c_attn): Conv1D()\n",
                            "          (c_proj): Conv1D()\n",
                            "          (attn_dropout): Dropout(p=0.1, inplace=False)\n",
                            "          (resid_dropout): Dropout(p=0.1, inplace=False)\n",
                            "        )\n",
                            "        (ln_2): LayerNorm((768,), eps=1e-05, elementwise_affine=True)\n",
                            "        (mlp): GPT2MLP(\n",
                            "          (c_fc): Conv1D()\n",
                            "          (c_proj): Conv1D()\n",
                            "          (act): NewGELUActivation()\n",
                            "          (dropout): Dropout(p=0.1, inplace=False)\n",
                            "        )\n",
                            "      )\n",
                            "      (4): GPT2Block(\n",
                            "        (ln_1): LayerNorm((768,), eps=1e-05, elementwise_affine=True)\n",
                            "        (attn): GPT2Attention(\n",
                            "          (c_attn): Conv1D()\n",
                            "          (c_proj): Conv1D()\n",
                            "          (attn_dropout): Dropout(p=0.1, inplace=False)\n",
                            "          (resid_dropout): Dropout(p=0.1, inplace=False)\n",
                            "        )\n",
                            "        (ln_2): LayerNorm((768,), eps=1e-05, elementwise_affine=True)\n",
                            "        (mlp): GPT2MLP(\n",
                            "          (c_fc): Conv1D()\n",
                            "          (c_proj): Conv1D()\n",
                            "          (act): NewGELUActivation()\n",
                            "          (dropout): Dropout(p=0.1, inplace=False)\n",
                            "        )\n",
                            "      )\n",
                            "      (5): GPT2Block(\n",
                            "        (ln_1): LayerNorm((768,), eps=1e-05, elementwise_affine=True)\n",
                            "        (attn): GPT2Attention(\n",
                            "          (c_attn): Conv1D()\n",
                            "          (c_proj): Conv1D()\n",
                            "          (attn_dropout): Dropout(p=0.1, inplace=False)\n",
                            "          (resid_dropout): Dropout(p=0.1, inplace=False)\n",
                            "        )\n",
                            "        (ln_2): LayerNorm((768,), eps=1e-05, elementwise_affine=True)\n",
                            "        (mlp): GPT2MLP(\n",
                            "          (c_fc): Conv1D()\n",
                            "          (c_proj): Conv1D()\n",
                            "          (act): NewGELUActivation()\n",
                            "          (dropout): Dropout(p=0.1, inplace=False)\n",
                            "        )\n",
                            "      )\n",
                            "      (6): GPT2Block(\n",
                            "        (ln_1): LayerNorm((768,), eps=1e-05, elementwise_affine=True)\n",
                            "        (attn): GPT2Attention(\n",
                            "          (c_attn): Conv1D()\n",
                            "          (c_proj): Conv1D()\n",
                            "          (attn_dropout): Dropout(p=0.1, inplace=False)\n",
                            "          (resid_dropout): Dropout(p=0.1, inplace=False)\n",
                            "        )\n",
                            "        (ln_2): LayerNorm((768,), eps=1e-05, elementwise_affine=True)\n",
                            "        (mlp): GPT2MLP(\n",
                            "          (c_fc): Conv1D()\n",
                            "          (c_proj): Conv1D()\n",
                            "          (act): NewGELUActivation()\n",
                            "          (dropout): Dropout(p=0.1, inplace=False)\n",
                            "        )\n",
                            "      )\n",
                            "      (7): GPT2Block(\n",
                            "        (ln_1): LayerNorm((768,), eps=1e-05, elementwise_affine=True)\n",
                            "        (attn): GPT2Attention(\n",
                            "          (c_attn): Conv1D()\n",
                            "          (c_proj): Conv1D()\n",
                            "          (attn_dropout): Dropout(p=0.1, inplace=False)\n",
                            "          (resid_dropout): Dropout(p=0.1, inplace=False)\n",
                            "        )\n",
                            "        (ln_2): LayerNorm((768,), eps=1e-05, elementwise_affine=True)\n",
                            "        (mlp): GPT2MLP(\n",
                            "          (c_fc): Conv1D()\n",
                            "          (c_proj): Conv1D()\n",
                            "          (act): NewGELUActivation()\n",
                            "          (dropout): Dropout(p=0.1, inplace=False)\n",
                            "        )\n",
                            "      )\n",
                            "      (8): GPT2Block(\n",
                            "        (ln_1): LayerNorm((768,), eps=1e-05, elementwise_affine=True)\n",
                            "        (attn): GPT2Attention(\n",
                            "          (c_attn): Conv1D()\n",
                            "          (c_proj): Conv1D()\n",
                            "          (attn_dropout): Dropout(p=0.1, inplace=False)\n",
                            "          (resid_dropout): Dropout(p=0.1, inplace=False)\n",
                            "        )\n",
                            "        (ln_2): LayerNorm((768,), eps=1e-05, elementwise_affine=True)\n",
                            "        (mlp): GPT2MLP(\n",
                            "          (c_fc): Conv1D()\n",
                            "          (c_proj): Conv1D()\n",
                            "          (act): NewGELUActivation()\n",
                            "          (dropout): Dropout(p=0.1, inplace=False)\n",
                            "        )\n",
                            "      )\n",
                            "      (9): GPT2Block(\n",
                            "        (ln_1): LayerNorm((768,), eps=1e-05, elementwise_affine=True)\n",
                            "        (attn): GPT2Attention(\n",
                            "          (c_attn): Conv1D()\n",
                            "          (c_proj): Conv1D()\n",
                            "          (attn_dropout): Dropout(p=0.1, inplace=False)\n",
                            "          (resid_dropout): Dropout(p=0.1, inplace=False)\n",
                            "        )\n",
                            "        (ln_2): LayerNorm((768,), eps=1e-05, elementwise_affine=True)\n",
                            "        (mlp): GPT2MLP(\n",
                            "          (c_fc): Conv1D()\n",
                            "          (c_proj): Conv1D()\n",
                            "          (act): NewGELUActivation()\n",
                            "          (dropout): Dropout(p=0.1, inplace=False)\n",
                            "        )\n",
                            "      )\n",
                            "      (10): GPT2Block(\n",
                            "        (ln_1): LayerNorm((768,), eps=1e-05, elementwise_affine=True)\n",
                            "        (attn): GPT2Attention(\n",
                            "          (c_attn): Conv1D()\n",
                            "          (c_proj): Conv1D()\n",
                            "          (attn_dropout): Dropout(p=0.1, inplace=False)\n",
                            "          (resid_dropout): Dropout(p=0.1, inplace=False)\n",
                            "        )\n",
                            "        (ln_2): LayerNorm((768,), eps=1e-05, elementwise_affine=True)\n",
                            "        (mlp): GPT2MLP(\n",
                            "          (c_fc): Conv1D()\n",
                            "          (c_proj): Conv1D()\n",
                            "          (act): NewGELUActivation()\n",
                            "          (dropout): Dropout(p=0.1, inplace=False)\n",
                            "        )\n",
                            "      )\n",
                            "      (11): GPT2Block(\n",
                            "        (ln_1): LayerNorm((768,), eps=1e-05, elementwise_affine=True)\n",
                            "        (attn): GPT2Attention(\n",
                            "          (c_attn): Conv1D()\n",
                            "          (c_proj): Conv1D()\n",
                            "          (attn_dropout): Dropout(p=0.1, inplace=False)\n",
                            "          (resid_dropout): Dropout(p=0.1, inplace=False)\n",
                            "        )\n",
                            "        (ln_2): LayerNorm((768,), eps=1e-05, elementwise_affine=True)\n",
                            "        (mlp): GPT2MLP(\n",
                            "          (c_fc): Conv1D()\n",
                            "          (c_proj): Conv1D()\n",
                            "          (act): NewGELUActivation()\n",
                            "          (dropout): Dropout(p=0.1, inplace=False)\n",
                            "        )\n",
                            "      )\n",
                            "    )\n",
                            "    (ln_f): LayerNorm((768,), eps=1e-05, elementwise_affine=True)\n",
                            "  )\n",
                            "  (lm_head): Linear(in_features=768, out_features=50257, bias=False)\n",
                            ")"
                        ]
                    },
                    "execution_count": 8,
                    "metadata": {},
                    "output_type": "execute_result"
                }
            ],
            "source": [
                "model = GPT2LMHeadModel.from_pretrained(output_dir)\n",
                "model.eval()"
            ]
        },
        {
            "attachments": {},
            "cell_type": "markdown",
            "metadata": {},
            "source": [
                "#### test generations"
            ]
        },
        {
            "cell_type": "code",
            "execution_count": 3,
            "metadata": {},
            "outputs": [],
            "source": [
                "def generate_pseudocode(input_code, model_path):\n",
                "    model = GPT2LMHeadModel.from_pretrained(model_path)\n",
                "    tokenizer = GPT2Tokenizer.from_pretrained(model_path)\n",
                "    input_tokens = tokenizer.encode(input_code, return_tensors='pt')\n",
                "\n",
                "    output_tokens = model.generate(\n",
                "        input_ids=input_tokens,\n",
                "        max_length=128,\n",
                "        temperature=0.7,\n",
                "        num_return_sequences=1,\n",
                "        pad_token_id=tokenizer.eos_token_id\n",
                "    )\n",
                "\n",
                "    output_text = tokenizer.decode(output_tokens[0], skip_special_tokens=True)\n",
                "    return output_text"
            ]
        },
        {
            "cell_type": "code",
            "execution_count": 4,
            "metadata": {},
            "outputs": [
                {
                    "name": "stdout",
                    "output_type": "stream",
                    "text": [
                        "int add(int a, int b){ return a + b; }\t54\t267A\t8491894\t1\t1\n",
                        "return b\treturn b;\t54\t267A\t8491894\t2\t1\n",
                        "\t}\t54\t267A\t8491894\t3\t0\n",
                        "\tint main() {\t54\t267A\t8491894\t4\t0\n",
                        "declare integer variables n and m\tint n, m;\t54\t267A\t8491894\t5\t1\n",
                        "read n and m\tcin >> n >> m;\t54\t267A\t8491894\t6\t1\n",
                        "declare integer variable called count = 0\tint count = 0;\t54\t267A\t8491894\t7\t1\n",
                        "for i = 0 to n exclusive\tfor (int i = 0; i < n; i++) {\t54\t267A\t8491894\t8\t8\t1\n",
                        "declare integer called counta = 0\tint counta = 0;\t54\t267A\t8491894\t9\t2\n",
                        "declare integer called countb = 0\tint countb = 0;\t\n",
                        "\n",
                        "int add(int a, int b){ return a + b; }\t54\t267A\t8491894\t1\t1\n",
                        "return b\treturn b;\t54\t267A\t8491894\t2\t1\n",
                        "\t}\t54\t267A\t8491894\t3\t0\n",
                        "\tint main() {\t54\t267A\t8491894\t4\t0\n",
                        "declare integer variables n and m\tint n, m;\t54\t267A\t8491894\t5\t1\n",
                        "read n and m\tcin >> n >> m;\t54\t267A\t8491894\t6\t1\n",
                        "declare integer variable called count = 0\tint count = 0;\t54\t267A\t8491894\t7\t1\n",
                        "for i = 0 to n exclusive\tfor (int i = 0; i < n; i++) {\t54\t267A\t8491894\t8\t8\t1\n",
                        "declare integer called counta = 0\tint counta = 0;\t54\t267A\t8491894\t9\t2\n",
                        "declare integer called countb = 0\tint countb = 0;\t\n"
                    ]
                }
            ],
            "source": [
                "input_code = \"int add(int a, int b){ return a + b; }\"\n",
                "output = generate_pseudocode(input_code=input_code, model_path=output_dir)\n",
                "print(output+\"\\n\")\n",
                "pseudo_code = output.split(\"/t\")[0]\n",
                "print(pseudo_code)"
            ]
        },
        {
            "attachments": {},
            "cell_type": "markdown",
            "metadata": {},
            "source": [
                "#### evaluation metrics"
            ]
        },
        {
            "cell_type": "code",
            "execution_count": 9,
            "metadata": {},
            "outputs": [
                {
                    "name": "stderr",
                    "output_type": "stream",
                    "text": [
                        "Setting `pad_token_id` to `eos_token_id`:50256 for open-end generation.\n",
                        "A decoder-only architecture is being used, but right-padding was detected! For correct generation results, please set `padding_side='left'` when initializing the tokenizer.\n",
                        "/home/paxx/.local/lib/python3.10/site-packages/transformers/generation/utils.py:1288: UserWarning: Using `max_length`'s default (20) to control the generation length. This behaviour is deprecated and will be removed from the config in v5 of Transformers -- we recommend using `max_new_tokens` to control the maximum length of the generation.\n",
                        "  warnings.warn(\n",
                        "Input length of input_ids is 32, but `max_length` is set to 20. This can lead to unexpected behavior. You should consider increasing `max_new_tokens`.\n"
                    ]
                },
                {
                    "name": "stdout",
                    "output_type": "stream",
                    "text": [
                        "['while (n--) {01', 'int a;a', 'cin >> a;cin', 'if (a >= 0)a', 'sum += a;sum', 'else a', 'sum -= a;01', 'cout << sum << endl;\\t', 'int n;n', 'cin >> n;cin', 'int x;31', 'int b = 0, c = 0;while', 'for (int i = 0; i < n; ++i) {for', 'cin >> x;cin', 'if (x < 0) {min', 'b = b + x;a', '} else {54', 'c = c + x;\\t', 'cout << c - b << endl;\\t', 'inline int read() {inline', 'int x = 0, f = 1;while', 'char ch = getchar();an', \"while (ch < '0' || ch > '9') {while\", \"if (ch == '-') f = -1;\\t\", 'ch = getchar();an', \"while (ch >= '0' && ch <= '9') {while\", \"x = 10 * x + ch - '0';\\t\", 'ch = getchar();an', 'return x * f;01', 'int n;n', 'n = read();\\t', 'int sum = 0;a', 'while (n--) {01', 'int h = read();\\t', 'if (h > 0)ss', 'sum += h;sum', 'else a', 'sum -= h;sum', 'cout << sum << endl;\\t', 'int n;n', 'cin >> n;cin', 'int a;a', 'int sum = 0;a', 'int cnt = 0;a', 'while (n--) {01', 'cin >> a;cin', 'if (a > 0)a', 'sum += a;sum', 'else a', 'cnt += a;a', 'cout << sum - cnt << endl;\\t', 'int a[102];\\t', 'int n, ans = 0;01', 'cin >> n;cin', 'for (int i = 0; i < n; i++) {for', 'cin >> a[i];\\t', 'if (a[i] > 0)a', 'ans += a[i];\\t', 'else a', 'ans -= a[i];01', 'cout << ans << endl;\\t', 'long long n, a[1000], b, c;01', 'cin >> n;cin', 'for (int i = 1; i <= n; i++) cin >> a[i];\\t', 'sort(a + 1, a + n + 1);01', 'for (int i = 1; i <= n; i++)for', 'if (a[i] < 0)a', 'c = c + a[i];\\t', 'else a', 'b = b + a[i];\\t', 'cout << b - c << endl;\\t', 'const long long int MOD = 1000000007;const', 'long long int N, M, K, H, W, L, R;;', 'cin >> N;cin', 'int box = 0;[', 'int sum = 0;a', 'for (int i = 0; i < N; i++) {for', 'cin >> M;cin', 'sum += M;sum', 'box = max(box, sum);[', 'K += abs(M);\\t', 'cout << K << endl;\\t', 'int arr[105];\\t', 'int n, sum = 0;\\t', 'cin >> n;cin', 'for (int i = 0; i < n; i++) {for', 'cin >> arr[i];\\t', 'if (arr[i] < 0)a', 'sum -= arr[i];01', 'else a', 'sum += arr[i];\\t', 'cout << sum << endl;\\t', 'int n;n', 'cin >> n;cin', 'int sum_a = 0, sum_b = 0, input;01', 'for (int i = 0; i < n; ++i) {for', 'cin >> input;cin', 'if (input < 0)ans', 'sum_b += input;sum', 'else a', 'sum_a += input;sum', 'cout << sum_a - sum_b << endl;\\t', 'int n, b = 0, c = 0;\\t', 'cin >> n;cin', 'int a[n];01', 'for (int i = 0; i < n; i += 1) {for', 'cin >> a[i];\\t', 'if (a[i] < 0)a', 'c += a[i];\\t', 'else a', 'b += a[i];\\t', \"cout << b - c << '\\\\n';\\t\", 'int sum1 = 0, sum2 = 0;\\t', 'int a[110];\\t', 'memset(a, 0, sizeof(a));01', 'int n;n', 'cin >> n;cin', 'for (int i = 1; i <= n; i++) {for', 'cin >> a[i];\\t', 'if (a[i] >= 0)a', 'sum1 += a[i];sum', 'else a', 'sum2 += a[i];\\t', 'cout << sum1 - sum2 << endl;\\t', 'int n;n', 'cin >> n;cin', 'int sum_a = 0, sum_b = 0, input;01', 'for (int i = 0; i < n; ++i) {for', 'cin >> input;cin', 'if (input < 0)ans', 'sum_b += input;sum', 'else a', 'sum_a += input;sum', 'cout << sum_a - sum_b << endl;\\t', 'int n, ans = 0;01', 'cin >> n;cin', 'int a[n];01', 'for (int i = 0; i < n; i++) {for', 'cin >> a[i];\\t', 'ans += abs(a[i]);54', 'cout << ans << endl;\\t', 'int n, sum = 0, mc = 0, summ = 0;\\t', 'cin >> n;cin', 'for (int i = 1; i <= n; i++) {for', 'int a;a', 'cin >> a;cin', 'sum += a;sum', 'if (a < 0) {min', 'sum -= a;01', 'mc++;}', 'summ += a;s', 'if (mc == 0)b', 'cout << sum << endl;\\t', 'else {else', 'cout << sum - summ << endl;\\t', 'long long n, temp, sum = 0;n', 'cin >> n;cin', 'for (int i = 0; i < n; i++) cin >> temp, sum += abs(temp);\\t', 'cout << sum << endl;\\t', 'int n, p = 0, q = 0, sum = 0;\\t', 'cin >> n;cin', 'for (int i = 0; i < n; i++) {for', 'int a;a', 'cin >> a;cin', 'if (a < 0)ans', 'sum -= a;01', 'else a', 'sum += a;sum', 'cout << sum << endl;\\t', 'int n, i, a[101], sum = 0;\\t', 'cin >> n;cin', 'for (i = 1; i <= n; i++) {for', 'cin >> a[i];\\t', 'if (a[i] < 0)a', 'sum = sum - a[i];\\t', 'else a', 'sum += a[i];\\t', 'cout << sum << endl;\\t', 'int n;n', 'cin >> n;cin', 'int sum = 0;a', 'int x;31', 'for (int i = 0; i < n; i++) {for', 'cin >> x;cin', 'if (x > 0)ss', 'sum += x;sum', 'else a', 'sum -= x;sum', 'cout << sum << endl;\\t', 'int n, x;01', 'while (cin >> n) {while', 'int sum1 = 0, sum2 = 0;\\t', 'while (n--) {01', 'cin >> x;cin', 'if (x < 0)g', 'sum1 += x;sum', 'else a', 'sum2 += x;sum', 'cout << sum2 - sum1 << endl;\\t', 'int n;n', 'cin >> n;cin', 'int a, sumb = 0, sumc = 0;\\t', 'for (int i = 0; i < n; i++) {for', 'cin >> a;cin', 'if (a >= 0)a', 'sumb += a;b', 'else a', 'sumc += a;sum', 'cout << (sumb - sumc) << endl;\\t', 'int n;n', 'cin >> n;cin', 'int a[101];01', 'int B, C;01', 'B = C = 0;for', 'for (int i = 0; i < n; i++) {for', 'cin >> a[i];\\t', 'if (a[i] < 0)a', 'C += a[i];\\t', 'else a', 'B += a[i];\\t', 'cout << B - C << endl;\\t', 'const int maxn = 109;\\t', 'const int MAXM = 500000;a', 'int n;n', 'while (cin >> n) {while', 'int b = 0, c = 0;while', 'for (int i = 0; i < n; i++) {for', 'int temp;++)', 'cin >> temp;cin', 'temp < 0? c += temp : b += temp;a', 'cout << b - c << endl;\\t', 'int n;n', 'cin >> n;cin', 'int tmp;01', 'int sum = 0;a', 'while (cin >> tmp) {01', 'if (tmp < 0) tmp = -tmp;\\t', 'sum += tmp;sum', 'cout << sum << endl;\\t', 'int n;n', 'cin >> n;cin', 'long long sum = 0;a', 'for (int i = 0; i < n; i++) {for', 'int t;++)', 'cin >> t;cin', 'sum += abs(t);++;', 'cout << sum << endl;\\t', 'int n;n', 'int i = 0;a', 'int a;a', 'int c = 0;a', 'int d = 0;a', 'cin >> n;cin', 'while (i < n) {while', 'cin >> a;cin', 'if (a >= 0) {01', 'c += a;a', '} else {54', 'd += a;++)', 'i += 1;\\t', 'cout << c + (-1 * d) << endl;\\t', 'int n;n', 'cin >> n;cin', 'int res = 0;a', 'int x;31', 'for (int i = 0; i < n; i++) {for', 'cin >> x;cin', 'res += abs(x);res', 'cout << res << endl;\\t', 'int n, sum = 0, mc = 0, summ = 0;\\t', 'cin >> n;cin', 'for (int i = 1; i <= n; i++) {for', 'int a;a', 'cin >> a;cin', 'sum += a;sum', 'if (a < 0) {min', 'sum -= a;01', 'mc++;}', 'summ += a;s', 'if (mc == 0)b', 'cout << sum << endl;\\t', 'else {else', 'cout << sum - summ << endl;\\t', 'const int N = 1e5 + 5;\\t', 'int n;n', 'cin >> n;cin', 'int psum = 0, nsum = 0;\\t', 'while (n--) {01', 'int a;a', 'cin >> a;cin', 'if (a > 0)a', 'psum += a;\\t', 'else a', 'nsum += a;else', 'cout << psum - nsum << \"\\\\n\";\\t', 'int n, a;01', 'cin >> n;cin', 'int u = 0;u', 'for (int i = 0; i < n; i++) {for', 'cin >> a;cin', 'u += abs(a);02', 'cout << u << endl;\\t', 'int n;n', 'cin >> n;cin', 'long long sum = 0;a', 'for (int i = 0; i < n; i++) {for', 'int x;31', 'cin >> x;cin', 'sum += abs(x);++;', \"cout << sum << '\\\\n';\\t\", 'long int n, sum = 0;a', 'cin >> n;cin', 'long int a[n];a', 'for (int i = 1; i <= n; i++) { cin >> a[i]; }\\t', 'for (int i = 1; i <= n; i++) {for', 'if (a[i] < 0) {01', 'sum = sum - a[i];\\t', '} else {54', 'sum = sum + a[i];\\t', 'cout << sum << endl;\\t', 'int n;n', 'cin >> n;cin', 'int sum = 0;a', 'for (int i = 1; i <= n; i++) {for', 'int tmp;01', 'cin >> tmp;cin', 'sum += abs(tmp);++;', 'cout << sum << endl;\\t', 'int sum = 0;a', 'int n;n', 'cin >> n;cin', 'for (int i = 0; i < n; i++) {for', 'int x;31', 'cin >> x;cin', 'sum += abs(x);++;', 'cout << sum << endl;\\t', 'long long a[101], ans;01', 'long long n;long', 'cin >> n;cin', 'for (long long i = 0; i < n; i++) {for', 'cin >> a[i];\\t', 'ans += abs(a[i]);54', 'cout << ans << endl;\\t', 'int a, b[100000], c = 0, d = 0;\\t', 'cin >> a;cin', 'for (int i = 0; i < a; i++) {for', 'cin >> b[i];\\t', 'if (b[i] >= 0) {a', 'd += b[i];\\t', '} else {54', 'd += abs(b[i]);\\t', 'cout << d << endl;\\t', 'int n, b = 0, c = 0;\\t', 'cin >> n;cin', 'for (int i = 0; i < n; i++) {for', 'int x;31', 'cin >> x;cin', 'if (x < 0) {min', 'c += x;a', '} else\\t', 'b += x;a', \"cout << b - c << '\\\\n';\\t\", 'int n, k, sumPos = 0, sumNeg = 0;,', 'cin >> n;cin', 'for (int i = 0; i < n; i++) {for', 'cin >> k;cin', 'if (k < 0) {min', 'sumNeg += k;sum', '} else {54', 'sumPos += k;sum', 'cout << sumPos - sumNeg << endl;\\t', 'long long b, c;long', 'const int maxn = 1e2 + 10;\\t', 'int a[maxn], n;01', 'cin >> n;cin', 'for (int i = 0; i < n; i++) {for', 'cin >> a[i];\\t', 'if (a[i] < 0)a', 'c += a[i];\\t', 'else a', 'b += a[i];\\t', 'cout << b - c << endl;\\t', 'int n;n', 'while (cin >> n) {while', 'int a[150];01', 'long long sum1 = 0, sum2 = 0;,', 'for (int i = 0; i < n; i++) {for', 'cin >> a[i];\\t', 'if (a[i] < 0) {01', 'sum1 += a[i];sum', '} else {54', 'sum2 += a[i];\\t', 'cout << sum2 - sum1 << endl;\\t', 'string s;r', 'cin >> s;cin', 'int arr[10];\\t', 'arr[0] = 2;\\t', 'arr[1] = 7;\\t', 'arr[2] = 2;\\t', 'arr[3] = 3;\\t', 'arr[4] = 3;\\t', 'arr[5] = 4;\\t', 'arr[6] = 2;\\t', 'arr[7] = 5;\\t', 'arr[8] = 1;\\t', 'arr[9] = 2;\\t', \"cout << (arr[s[0] - '0']) * (arr[s[1] - '0']) << endl;\\t\", 'int ar[10] = {2, 7, 2, 3, 3, 4, 2, 5, 1, 2};13', 'int n;n', 'cin >> n;cin', 'int l = (n / 10), r = (n % 10);\\t', \"cout << ar[l] * ar[r] << '\\\\n';\\t\", 'int arr[10] = {2, 7, 2, 3, 3, 4, 2, 5, 1, 2};13', 'string m;s', 'cin >> m;cin', \"int x = m[0] - '0';\\t\", \"int y = m[1] - '0';\\t\", 'cout << (arr[x] * arr[y]) << endl;\\t', 'int b[11] = {2, 7, 2, 3, 3, 4, 2, 5, 1, 2};13', 'char a[3];01', 'for (int i = 0; i < 2; i++) { cin >> a[i]; }\\t', \"int x = a[0] - '0';\\t\", \"int y = a[1] - '0';\\t\", 'cout << b[x] * b[y] << endl;\\t', 'int n, c1 = 1, c2 = 1;while', 'cin >> n;cin', 'int t = n / 10, u = n % 10;\\t', 'if (t == 0)a', 'c1++;\\t', 'else if (t == 1)\\t', 'c1 += 6;\\t', 'else if (t == 2)\\t', 'c1++;\\t', 'else if (t == 3)\\t', 'c1 += 2;\\t', 'else if (t == 4)\\t', 'c1 += 2;\\t', 'else if (t == 5)\\t', 'c1 += 3;\\t', 'else if (t == 6)\\t', 'c1++;\\t', 'else if (t == 7)\\t', 'c1 += 4;\\t', 'else if (t == 9)\\t', 'c1++;\\t', 'if (u == 0)\\t', 'c2++;else', 'else if (u == 1)\\t', 'c2 += 6;\\t', 'else if (u == 2)\\t', 'c2++;else', 'else if (u == 3)\\t', 'c2 += 2;\\t', 'else if (u == 4)\\t', 'c2 += 2;\\t', 'else if (u == 5)\\t', 'c2 += 3;\\t', 'else if (u == 6)\\t', 'c2++;else', 'else if (u == 7)\\t', 'c2 += 4;\\t', 'else if (u == 9)\\t', 'c2++;else', \"cout << c1 * c2 << '\\\\n';\\t\", 'int n, a[10] = {2, 7, 2, 3, 3, 4, 2, 5, 1, 2};01', 'cin >> n;cin', 'cout << a[n / 10] * a[n % 10] << endl;\\t', 'int n, sum;01', 'int num[10] = {2, 7, 2, 3, 3, 4, 2, 5, 1, 2};01', 'while (cin >> n) {while', 'if (n < 10) {01', 'sum = 2 * num[n];\\t', '} else {54', 'sum = num[n / 10] * num[n % 10];\\t', 'cout << sum << endl;\\t', 'int arr[10];\\t', 'arr[0] = 2;\\t', 'arr[1] = 7;\\t', 'arr[2] = 2;\\t', 'arr[3] = 3;\\t', 'arr[4] = 3;\\t', 'arr[5] = 4;\\t', 'arr[6] = 2;\\t', 'arr[7] = 5;\\t', 'arr[8] = 1;\\t', 'arr[9] = 2;\\t', 'int m;n', 'cin >> m;cin', 'int a = m / 10;a', 'int b = m % 10;a', 'cout << arr[a] * arr[b] << endl;\\t', 'int n, m;01', 'cin >> n;cin', 'int tenth = n / 10;54', 'int unit = n % 10;01', 'int list[10] = {2, 7, 2, 3, 3, 4, 2, 5, 1, 2};46', 'int x = list[tenth] * list[unit];\\t', 'cout << x << endl;\\t', 'int Q[10] = {2, 7, 2, 3, 3, 4, 2, 5, 1, 2};13', 'int w, sum;01', 'sum = 0;a', 'cin >> w;cin', 'if (w <= 0) {min', 'sum = 2 * Q[w];\\t', '} else {54', 'int e = w / 10;\\t', 'int r = w % 10;\\t', 'sum = Q[e] * Q[r];\\t', 'cout << sum << endl;\\t', 'int counter(char a) {01', 'int c = 1;a', \"if ('9' == a || '2' == a || '6' == a || '0' == a)if\", 'c = 2;\\t', \"else if ('7' == a)}\", 'c = 5;\\t', \"else if ('5' == a)print\", 'c = 4;\\t', \"else if ('3' == a || '4' == a)print\", 'c = 3;\\t', \"else if ('1' == a)\\t\", 'c = 7;\\t', 'return c;01', 'string n;s', 'cin >> n;cin', 'int co = 1;other', 'for (int i = 0; i < 2; i++) { co *= counter(n[i]); }\\t', 'cout << co << endl;\\t', 'int n;n', 'cin >> n;cin', 'int d1 = n / 10;d', 'int d2 = n % 10;a', 'if (d1 == 0 || d1 == 2 || d1 == 6 || d1 == 9)\\t', 'd1 = 1;\\t', 'else if (d1 == 3 || d1 == 4)\\t', 'd1 = 2;\\t', 'else if (d1 == 5)\\t', 'd1 = 3;\\t', 'else if (d1 == 1)\\t', 'd1 = 6;\\t', 'else if (d1 == 7)print', 'd1 = 4;\\t', 'else a', 'd1 = 0;\\t', 'if (d2 == 0 || d2 == 2 || d2 == 6 || d2 == 9)odd', 'd2 = 1;\\t', 'else if (d2 == 3 || d2 == 4)}', 'd2 = 2;\\t', 'else if (d2 == 5)\\t', 'd2 = 3;\\t', 'else if (d2 == 1)\\t', 'd2 = 6;\\t', 'else if (d2 == 7)print', 'd2 = 4;\\t', 'else a', 'd2 = 0;\\t', 'cout << d1 + d2 + 1 + d1 * d2 << endl;\\t', 'int n, v[10], r, p;01', 'v[0] = 2;\\t', 'v[1] = 7;\\t', 'v[2] = 2;\\t', 'v[3] = 3;\\t', 'v[4] = 3;\\t', 'v[5] = 4;\\t', 'v[6] = 2;\\t', 'v[7] = 5;\\t', 'v[8] = 1;\\t', 'v[9] = 2;\\t', 'cin >> n;cin', 'r = n % 10;\\t', 'n = n / 10;\\t', 'p = v[r] * v[n];\\t', 'cout << p << endl;\\t', 'int a[10] = {2, 7, 2, 3, 3, 4, 2, 5, 1, 2};13', 'int n;n', 'cin >> n;cin', 'int digit1 = n % 10;01', 'int val = n / 10;\\t', 'cout << a[digit1] * a[val];\\t', \"putchar('\\\\n');++;\", 'int freq[10], x, d1;01', 'cin >> x;cin', 'for (int i = 0; i < 10; i++) {for', 'if (i == 0 || i == 2 || i == 6 || i == 9) freq[i] += 2;\\t', 'if (i == 1) freq[i] += 7;\\t', 'if (i == 3 || i == 4) freq[i] += 3;\\t', 'if (i == 7) freq[i] += 5;\\t', 'if (i == 8) freq[i] += 1;\\t', 'if (i == 5) freq[i] += 4;\\t', 'd1 = x % 10;od', 'x /= 10;\\t', 'cout << freq[d1] * freq[x] << endl;\\t', 'int a[] = {2, 7, 2, 3, 3, 4, 2, 5, 1, 2};13', 'string s;r', 'cin >> s;cin', \"cout << a[s[0] - '0'] * a[s[1] - '0'] << endl;\\t\", 'int n;n', 'cin >> n;cin', 'int a = n / 10;a', 'int b = n % 10;\\t', 'int num[10] = {2, 7, 2, 3, 3, 4, 2, 5, 1, 2};01', 'cout << num[a] * num[b] << endl;\\t', 'int stick[11] = {2, 7, 2, 3, 3, 4, 2, 5, 1, 2}; it', 'int n, x;01', 'cin >> n;cin', 'int n1, n2;\\t', 'n1 = (n % 10);a', 'n2 = (n / 10);\\t', 'x = stick[n1] * stick[n2];\\t', 'cout << x << endl;\\t', 'string s;r', 'cin >> s;cin', 'int c1 = 0, c2 = 0;for', \"if (s[0] == '0')\\t\", 'c1 += 2;\\t', \"else if (s[0] == '1')\\t\", 'c1 += 7;\\t', \"else if (s[0] == '2')\\t\", 'c1 += 2;\\t', \"else if (s[0] == '3')\\t\", 'c1 += 3;\\t', \"else if (s[0] == '4')\\t\", 'c1 += 3;\\t', \"else if (s[0] == '5')\\t\", 'c1 += 4;\\t', \"else if (s[0] == '6')\\t\", 'c1 += 2;\\t', \"else if (s[0] == '7')\\t\", 'c1 += 5;\\t', \"else if (s[0] == '8')\\t\", 'c1 += 1;\\t', \"else if (s[0] == '9')\\t\", 'c1 += 2;\\t', \"if (s[1] == '0')\\t\", 'c2 += 2;\\t', \"else if (s[1] == '1')\\t\", 'c2 += 7;\\t', \"else if (s[1] == '2')\\t\", 'c2 += 2;\\t', \"else if (s[1] == '3')\\t\", 'c2 += 3;\\t', \"else if (s[1] == '4')\\t\", 'c2 += 3;\\t', \"else if (s[1] == '5')\\t\", 'c2 += 4;\\t', \"else if (s[1] == '6')\\t\", 'c2 += 2;\\t', \"else if (s[1] == '7')\\t\", 'c2 += 5;\\t', \"else if (s[1] == '8')\\t\", 'c2 += 1;\\t', \"else if (s[1] == '9')\\t\", 'c2 += 2;\\t', 'cout << c1 * c2 << endl;\\t', 'int n, c = 0, d1, d2;\\t', 'int ref[10] = {2, 7, 2, 3, 3, 4, 2, 5, 1, 2};13', 'cin >> n;cin', 'd1 = n % 10;\\t', 'd2 = n / 10;\\t', \"cout << ref[d1] * ref[d2] << '\\\\n';\\t\", 'int n, c = 0, d1, d2;\\t', 'int ref[10] = {2, 7, 2, 3, 3, 4, 2, 5, 1, 2};13', 'cin >> n;cin', 'd1 = n % 10;\\t', 'd2 = n / 10;\\t', \"cout << ref[d1] * ref[d2] << '\\\\n';\\t\", 'int getGood(char a) {IGHT', \"if (a == '0') return 2;\\t\", \"if (a == '1') return 7;\\t\", \"if (a == '2') return 2;\\t\", \"if (a == '3') return 3;\\t\", \"if (a == '4') return 3;\\t\", \"if (a == '5') return 4;\\t\", \"if (a == '6') return 2;\\t\", \"if (a == '7') return 5;\\t\", \"if (a == '8') return 1;\\t\", 'return 2;\\t', 'string a;a', 'cin >> a;cin', 'cout << getGood(a[0]) * getGood(a[1]) << endl;\\t', 'int arr[10] = {2, 7, 2, 3, 3, 4, 2, 5, 1, 2};13', 'int n;n', 'cin >> n;cin', 'cout << arr[n % 10] * arr[n / 10] << endl;\\t', 'int good[] = {2, 7, 2, 3, 3, 4, 2, 5, 1, 2};46', 'int n;n', 'cin >> n;cin', 'int ans = good[n % 10] * good[n / 10];01', 'cout << ans << endl;\\t', 'int A[10] = {2, 7, 2, 3, 3, 4, 2, 5, 1, 2};13', 'int n;n', 'cin >> n;cin', 'cout << A[n / 10] * A[n % 10] << endl;\\t', 'int n, sum;01', 'int num[10] = {2, 7, 2, 3, 3, 4, 2, 5, 1, 2};01', 'while (cin >> n) {while', 'if (n < 10) {01', 'sum = 2 * num[n];\\t', '} else {54', 'sum = num[n / 10] * num[n % 10];\\t', 'cout << sum << endl;\\t', 'int arr[10];\\t', 'arr[0] = 2;\\t', 'arr[1] = 7;\\t', 'arr[2] = 2;\\t', 'arr[3] = 3;\\t', 'arr[4] = 3;\\t', 'arr[5] = 4;\\t', 'arr[6] = 2;\\t', 'arr[7] = 5;\\t', 'arr[8] = 1;\\t', 'arr[9] = 2;\\t', 'int n;n', 'cin >> n;cin', 'int a = n % 10, b = n / 10;01', 'cout << arr[a] * arr[b] << endl;\\t', 'int arr[11];\\t', 'arr[0] = 2;\\t', 'arr[1] = 7;\\t', 'arr[2] = 2;\\t', 'arr[3] = 3;\\t', 'arr[4] = 3;\\t', 'arr[5] = 4;\\t', 'arr[6] = 2;\\t', 'arr[7] = 5;\\t', 'arr[8] = 1;\\t', 'arr[9] = 2;\\t', 'int n;n', 'cin >> n;cin', 'int ans = arr[n / 10] * arr[n % 10];01', 'cout << ans << endl;\\t', 'int arr[10] = {2, 7, 2, 3, 3, 4, 2, 5, 1, 2};13', 'string m;s', 'cin >> m;cin', \"int x = m[0] - '0';\\t\", \"int y = m[1] - '0';\\t\", 'cout << (arr[x] * arr[y]) << endl;\\t', 'int x, a, b;01', 'cin >> x;cin', 'int num1, num2;01', 'num1 = x % 10;\\t', 'num2 = x / 10;\\t', 'if (num1 == 0)a', 'a = 2;\\t', 'else if (num1 == 1)\\t', 'a = 7;a', 'else if (num1 == 2)\\t', 'a = 2;\\t', 'else if (num1 == 3)\\t', 'a = 3;\\t', 'else if (num1 == 4)\\t', 'a = 3;\\t', 'else if (num1 == 5)\\t', 'a = 4;a', 'else if (num1 == 6)\\t', 'a = 2;\\t', 'else if (num1 == 7)\\t', 'a = 5;a', 'else if (num1 == 8)\\t', 'a = 1;a', 'else if (num1 == 9)\\t', 'a = 2;\\t', 'if (num2 == 0)a', 'b = 2;\\t', 'else if (num2 == 1)\\t', 'b = 7;\\t', 'else if (num2 == 2)\\t', 'b = 2;\\t', 'else if (num2 == 3)print', 'b = 3;\\t', 'else if (num2 == 4)print', 'b = 3;\\t', 'else if (num2 == 5)\\t', 'b = 4;\\t', 'else if (num2 == 6)\\t', 'b = 2;\\t', 'else if (num2 == 7)print', 'b = 5;\\t', 'else if (num2 == 8)\\t', 'b = 1;\\t', 'else if (num2 == 9)\\t', 'b = 2;\\t', 'cout << a * b << endl;\\t', 'const double Pi = acos(-1.0);decl', 'int getPossibilities(int num) {13', 'if (num == 0) return 2;\\t', 'if (num == 1) return 7;\\t', 'if (num == 2) return 2;\\t', 'if (num == 3) return 3;\\t', 'if (num == 4) return 3;\\t', 'if (num == 5) return 4;\\t', 'if (num == 6) return 2;\\t', 'if (num == 7) return 5;\\t', 'if (num == 8) return 1;\\t', 'return 2;\\t', 'int n;n', 'cin >> n;cin', 'cout << getPossibilities(n / 10) * getPossibilities(n % 10) << \"\\\\n\";\\t', 'int A[] = {2, 7, 2, 3, 3, 4, 2, 5, 1, 2};46', 'int n, n1, n2;\\t', 'cin >> n;cin', 'n1 = n % 10;\\t', 'n /= 10;\\t', 'n2 = n;\\t', 'cout << A[n1] * A[n2] << endl;\\t', 'string str;r', 'cin >> str;cin', 'int ans = 1;a', 'int arr[10] = {2, 7, 2, 3, 3, 4, 2, 5, 1, 2};13', \"for (int i = 0; i < 2; i++) ans *= arr[str[i] - '0'];\\t\", 'cout << ans << endl;\\t', 'int arr[10] = {2, 7, 2, 3, 3, 4, 2, 5, 1, 2};13', 'int n;n', 'cin >> n;cin', 'cout << arr[n / 10] * arr[n % 10] << endl;\\t', 'string s;r', 'cin >> s;cin', 'int x = 0, y = 0;\\t', \"if (s[0] == '0') x = 2;\\t\", \"if (s[1] == '0') y = 2;\\t\", \"if (s[0] == '1') x = 7;\\t\", \"if (s[1] == '1') y = 7;\\t\", \"if (s[0] == '2') x = 2;\\t\", \"if (s[1] == '2') y = 2;\\t\", \"if (s[0] == '3') x = 3;\\t\", \"if (s[1] == '3') y = 3;\\t\", \"if (s[0] == '4') x = 3;\\t\", \"if (s[1] == '4') y = 3;\\t\", \"if (s[0] == '5') x = 4;\\t\", \"if (s[1] == '5') y = 4;\\t\", \"if (s[0] == '6') x = 2;\\t\", \"if (s[1] == '6') y = 2;\\t\", \"if (s[0] == '7') x = 5;\\t\", \"if (s[1] == '7') y = 5;\\t\", \"if (s[0] == '8') x = 1;\\t\", \"if (s[1] == '8') y = 1;\\t\", \"if (s[0] == '9') x = 2;\\t\", \"if (s[1] == '9') y = 2;\\t\", 'cout << x * y << endl;\\t', 'int ar[10] = {1, 6, 1, 2, 2, 3, 1, 4, 0, 1};01', 'int n;n', 'cin >> n;cin', 'int l = (n / 10), r = (n % 10);\\t', \"cout << (ar[l] + 1) * (ar[r] + 1) << '\\\\n';\\t\", 'char p[5];\\t', 'int q[12] = {2, 7, 2, 3, 3, 4, 2, 5, 1, 2};13', 'while (cin >> p) {while', \"int t = int(p[0] - '0');a\", \"int tt = int(p[1] - '0');a\", 'int ans = q[t] * q[tt];\\t', 'cout << ans << endl;\\t', 'const long long mod = 1000000007;const', 'long long powmod(long long a, long long b) {l', 'long long res = 1;while', 'a %= mod;02', 'assert(b >= 0);54', 'for (; b; b >>= 1) {\\t', 'if (b & 1) res = res * a % mod;01', 'a = a * a % mod;a', 'return res;01', 'long long gcd(long long a, long long b) {l', 'return b? gcd(b, a % b) : a;\\t', 'int n;n', 'cin >> n;cin', 'int _x = n / 10;\\t', 'int _y = n % 10;\\t', 'int ans1 = 0;a', 'int ans2 = 0;a', 'if (_x == 1)return', 'ans1 = 7;\\t', 'else if (_x == 2)\\t', 'ans1 = 2;\\t', 'else if (_x == 3)else', 'ans1 = 3;\\t', 'else if (_x == 4)\\t', 'ans1 = 3;\\t', 'else if (_x == 5)\\t', 'ans1 = 4;\\t', 'else if (_x == 6)\\t', 'ans1 = 2;\\t', 'else if (_x == 7)\\t', 'ans1 = 5;\\t', 'else if (_x == 8)\\t', 'ans1 = 1;\\t', 'else if (_x == 9)\\t', 'ans1 = 2;\\t', 'else if (_x == 0)\\t', 'ans1 = 2;\\t', 'if (_y == 1)return', 'ans2 = 7;\\t', 'else if (_y == 2)else', 'ans2 = 2;\\t', 'else if (_y == 3)}', 'ans2 = 3;\\t', 'else if (_y == 4)}', 'ans2 = 3;\\t', 'else if (_y == 5)\\t', 'ans2 = 4;\\t', 'else if (_y == 6)\\t', 'ans2 = 2;\\t', 'else if (_y == 7)\\t', 'ans2 = 5;\\t', 'else if (_y == 8)\\t', 'ans2 = 1;\\t', 'else if (_y == 9)\\t', 'ans2 = 2;\\t', 'else if (_y == 0)\\t', 'ans2 = 2;\\t', 'cout << ans1 * ans2 << endl;\\t', 'int n;n', 'int num[] = {2, 7, 2, 3, 3, 4, 2, 5, 1, 2};46', 'cin >> n;cin', 'int x, y;01', 'x = n / 10;\\t', 'y = n % 10;\\t', 'cout << num[x] * num[y] << endl;\\t', 'const double Pi = acos(-1.0);decl', 'int getPossibilities(int num) {13', 'if (num == 0) return 2;\\t', 'if (num == 1) return 7;\\t', 'if (num == 2) return 2;\\t', 'if (num == 3) return 3;\\t', 'if (num == 4) return 3;\\t', 'if (num == 5) return 4;\\t', 'if (num == 6) return 2;\\t', 'if (num == 7) return 5;\\t', 'if (num == 8) return 1;\\t', 'return 2;\\t', 'int n;n', 'cin >> n;cin', 'cout << getPossibilities(n / 10) * getPossibilities(n % 10) << \"\\\\n\";\\t', 'string s;r', 'cin >> s;cin', 'int c1 = 0, c2 = 0;for', \"if (s[0] == '0')\\t\", 'c1 += 2;\\t', \"else if (s[0] == '1')\\t\", 'c1 += 7;\\t', \"else if (s[0] == '2')\\t\", 'c1 += 2;\\t', \"else if (s[0] == '3')\\t\", 'c1 += 3;\\t', \"else if (s[0] == '4')\\t\", 'c1 += 3;\\t', \"else if (s[0] == '5')\\t\", 'c1 += 4;\\t', \"else if (s[0] == '6')\\t\", 'c1 += 2;\\t', \"else if (s[0] == '7')\\t\", 'c1 += 5;\\t', \"else if (s[0] == '8')\\t\", 'c1 += 1;\\t', \"else if (s[0] == '9')\\t\", 'c1 += 2;\\t', \"if (s[1] == '0')\\t\", 'c2 += 2;\\t', \"else if (s[1] == '1')\\t\", 'c2 += 7;\\t', \"else if (s[1] == '2')\\t\", 'c2 += 2;\\t', \"else if (s[1] == '3')\\t\", 'c2 += 3;\\t', \"else if (s[1] == '4')\\t\", 'c2 += 3;\\t', \"else if (s[1] == '5')\\t\", 'c2 += 4;\\t', \"else if (s[1] == '6')\\t\", 'c2 += 2;\\t', \"else if (s[1] == '7')\\t\", 'c2 += 5;\\t', \"else if (s[1] == '8')\\t\", 'c2 += 1;\\t', \"else if (s[1] == '9')\\t\", 'c2 += 2;\\t', 'cout << c1 * c2 << endl;\\t', 'int n, m, k;01', 'while (cin >> n >> m >> k) {01', 'int i, a[101], x;01', 'for (i = 1; i <= n; i++) {for', 'cin >> x;cin', 'if (x > k)odd', 'a[i] = 0;\\t', 'else a', 'a[i] = x;\\t', 'int min = n;a', 'for (i = 1; i <= n; i++) {for', 'if (a[i]!= 0 && abs(i - m) < min) min = abs(i - m);\\t', 'cout << 10 * min << endl;\\t', 'const int INF = 0x3f3f3f3f;const', 'const int inf = 0x3f;const', 'int n, m, k;01', 'int ans1 = 0, ans2 = 0, ans;01', 'cin >> n >> m >> k;26', 'int ip, flag = 0, flag1 = 0;,', 'for (int i = 1; i <= n; i++) {for', 'cin >> ip;cin', 'if (i == m) {01', 'flag = 1;a', 'continue;;', 'if (!flag && ip!= 0 && ip <= k) {\\t', 'ans1 = 1;\\t']\n",
                        "BLEU score: 0.37269934871090493\n"
                    ]
                }
            ],
            "source": [
                "from nltk.translate.bleu_score import corpus_bleu\n",
                "\n",
                "test_set = bleu_test_set.tolist()\n",
                "\n",
                "references = bleu_refs.tolist()\n",
                "\n",
                "test_encodings = tokenizer(test_set, max_length=max_input_length, truncation=True, padding=True, return_tensors=\"pt\")\n",
                "\n",
                "predicted_ids = model.generate(test_encodings[\"input_ids\"], attention_mask=test_encodings[\"attention_mask\"])\n",
                "predicted_texts = tokenizer.batch_decode(predicted_ids, skip_special_tokens=True)\n",
                "print(predicted_texts)\n",
                "\n",
                "bleu_score = corpus_bleu([[ref] for ref in references], predicted_texts)\n",
                "print(\"BLEU score:\", bleu_score)"
            ]
        },
        {
            "cell_type": "code",
            "execution_count": 11,
            "metadata": {},
            "outputs": [
                {
                    "name": "stderr",
                    "output_type": "stream",
                    "text": [
                        "Setting `pad_token_id` to `eos_token_id`:50256 for open-end generation.\n",
                        "A decoder-only architecture is being used, but right-padding was detected! For correct generation results, please set `padding_side='left'` when initializing the tokenizer.\n",
                        "Input length of input_ids is 32, but `max_length` is set to 20. This can lead to unexpected behavior. You should consider increasing `max_new_tokens`.\n"
                    ]
                },
                {
                    "name": "stdout",
                    "output_type": "stream",
                    "text": [
                        "ROUGE-1 score: 0.3097778333694708\n",
                        "ROUGE-2 score: 0.12138070523932558\n"
                    ]
                }
            ],
            "source": [
                "from rouge import Rouge\n",
                "\n",
                "test_set = bleu_test_set.tolist()\n",
                "\n",
                "references = bleu_refs.tolist()\n",
                "\n",
                "test_encodings = tokenizer(test_set, max_length=max_input_length, truncation=True, padding=True, return_tensors=\"pt\")\n",
                "\n",
                "predicted_ids = model.generate(test_encodings[\"input_ids\"], attention_mask=test_encodings[\"attention_mask\"])\n",
                "predicted_texts = tokenizer.batch_decode(predicted_ids, skip_special_tokens=True)\n",
                "\n",
                "rouge = Rouge()\n",
                "rouge_scores = rouge.get_scores(predicted_texts, references, avg=True, ignore_empty=True)\n",
                "\n",
                "print(\"ROUGE-1 score:\", rouge_scores[\"rouge-1\"][\"f\"])\n",
                "print(\"ROUGE-2 score:\", rouge_scores[\"rouge-2\"][\"f\"])"
            ]
        }
    ],
    "metadata": {
        "kernelspec": {
            "display_name": "Python 3",
            "language": "python",
            "name": "python3"
        },
        "language_info": {
            "codemirror_mode": {
                "name": "ipython",
                "version": 3
            },
            "file_extension": ".py",
            "mimetype": "text/x-python",
            "name": "python",
            "nbconvert_exporter": "python",
            "pygments_lexer": "ipython3",
            "version": "3.10.6"
        },
        "orig_nbformat": 4
    },
    "nbformat": 4,
    "nbformat_minor": 2
}
