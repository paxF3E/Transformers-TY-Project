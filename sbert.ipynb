{
 "cells": [
  {
   "cell_type": "code",
   "execution_count": 27,
   "metadata": {},
   "outputs": [],
   "source": [
    "from sentence_transformers import SentenceTransformer, util\n",
    "import pandas as pd\n",
    "import numpy as np\n",
    "import torch"
   ]
  },
  {
   "cell_type": "code",
   "execution_count": 6,
   "metadata": {},
   "outputs": [],
   "source": [
    "text_df = pd.read_csv('cleaned_pseudo_desc.csv')\n",
    "\n",
    "psc_arr = text_df['Pseudocode'].to_numpy()\n",
    "desc_arr = text_df['Description'].to_numpy()\n",
    "label_arr = text_df['Label'].to_numpy()"
   ]
  },
  {
   "cell_type": "code",
   "execution_count": 7,
   "metadata": {},
   "outputs": [],
   "source": [
    "model = SentenceTransformer('distilbert-base-nli-stsb-mean-tokens')\n",
    "\n",
    "pseudo_code_embeddings = model.encode(psc_arr, convert_to_tensor=True)\n",
    "description_embeddings = model.encode(desc_arr, convert_to_tensor=True)"
   ]
  },
  {
   "cell_type": "code",
   "execution_count": 22,
   "metadata": {},
   "outputs": [
    {
     "name": "stdout",
     "output_type": "stream",
     "text": [
      "768\n",
      "768\n",
      "768\n"
     ]
    }
   ],
   "source": [
    "print(len(pseudo_code_embeddings[0]))\n",
    "print(len(description_embeddings[0]))\n",
    "sim_psc_arr = pseudo_code_embeddings[140:191]\n",
    "sim_desc_arr = description_embeddings[140:191]"
   ]
  },
  {
   "cell_type": "code",
   "execution_count": 45,
   "metadata": {},
   "outputs": [],
   "source": [
    "results = {}\n",
    "for i in range (0, len(sim_psc_arr)):\n",
    "    similarity_scores = []\n",
    "    for desc_pt in sim_desc_arr:\n",
    "        similarity_scores.append(torch.sqrt(torch.sum((sim_psc_arr[i] - desc_pt) ** 2)))\n",
    "        # similarity_scores.append(util.pytorch_cos_sim(sim_psc_arr[i], desc_pt))\n",
    "    indices = np.argpartition(similarity_scores, -3)[-3:]\n",
    "    scores = [similarity_scores[i] for i in indices]\n",
    "    results[i] = [indices, scores]"
   ]
  },
  {
   "cell_type": "code",
   "execution_count": 46,
   "metadata": {},
   "outputs": [
    {
     "data": {
      "text/plain": [
       "{0: [array([ 5, 49, 28]), [tensor(14.2613), tensor(15.3124), tensor(15.3127)]],\n",
       " 1: [array([ 5, 49, 28]), [tensor(14.2613), tensor(15.3124), tensor(15.3127)]],\n",
       " 2: [array([28, 15, 27]), [tensor(14.7421), tensor(16.8581), tensor(15.2008)]],\n",
       " 3: [array([28, 15, 27]), [tensor(14.7421), tensor(16.8581), tensor(15.2008)]],\n",
       " 4: [array([ 5, 28, 49]), [tensor(15.0131), tensor(15.1096), tensor(15.6591)]],\n",
       " 5: [array([ 5, 28, 49]), [tensor(15.0131), tensor(15.1096), tensor(15.6591)]],\n",
       " 6: [array([40, 28, 15]), [tensor(14.6759), tensor(15.8734), tensor(15.9451)]],\n",
       " 7: [array([40, 28, 15]), [tensor(14.6759), tensor(15.8734), tensor(15.9451)]],\n",
       " 8: [array([15, 49, 28]), [tensor(15.2365), tensor(15.4421), tensor(16.4414)]],\n",
       " 9: [array([15, 49, 28]), [tensor(15.2365), tensor(15.4421), tensor(16.4414)]],\n",
       " 10: [array([27, 49, 28]),\n",
       "  [tensor(15.3300), tensor(16.8473), tensor(15.4438)]],\n",
       " 11: [array([27, 49, 28]),\n",
       "  [tensor(15.3300), tensor(16.8473), tensor(15.4438)]],\n",
       " 12: [array([30, 49, 28]),\n",
       "  [tensor(14.9588), tensor(16.4362), tensor(16.4469)]],\n",
       " 13: [array([30, 49, 28]),\n",
       "  [tensor(14.9588), tensor(16.4362), tensor(16.4469)]],\n",
       " 14: [array([24, 49, 28]),\n",
       "  [tensor(15.5398), tensor(16.6047), tensor(15.7050)]],\n",
       " 15: [array([24, 49, 28]),\n",
       "  [tensor(15.5398), tensor(16.6047), tensor(15.7050)]],\n",
       " 16: [array([15, 28, 40]),\n",
       "  [tensor(15.2422), tensor(15.6767), tensor(16.0435)]],\n",
       " 17: [array([15, 28, 40]),\n",
       "  [tensor(15.2422), tensor(15.6767), tensor(16.0435)]],\n",
       " 18: [array([40, 49, 15]),\n",
       "  [tensor(15.4952), tensor(15.5672), tensor(16.5757)]],\n",
       " 19: [array([40, 49, 15]),\n",
       "  [tensor(15.4952), tensor(15.5672), tensor(16.5757)]],\n",
       " 20: [array([49, 15, 28]),\n",
       "  [tensor(14.3402), tensor(14.6669), tensor(15.4047)]],\n",
       " 21: [array([49, 15, 28]),\n",
       "  [tensor(14.3402), tensor(14.6669), tensor(15.4047)]],\n",
       " 22: [array([15, 49, 28]),\n",
       "  [tensor(15.4515), tensor(15.5049), tensor(15.7276)]],\n",
       " 23: [array([15, 49, 28]),\n",
       "  [tensor(15.4515), tensor(15.5049), tensor(15.7276)]],\n",
       " 24: [array([27, 49, 28]),\n",
       "  [tensor(16.7298), tensor(16.9698), tensor(17.0695)]],\n",
       " 25: [array([27, 49, 28]),\n",
       "  [tensor(16.7298), tensor(16.9698), tensor(17.0695)]],\n",
       " 26: [array([15, 28, 40]),\n",
       "  [tensor(15.4453), tensor(15.4939), tensor(16.6891)]],\n",
       " 27: [array([15, 28, 40]),\n",
       "  [tensor(15.4453), tensor(15.4939), tensor(16.6891)]],\n",
       " 28: [array([27, 40, 15]),\n",
       "  [tensor(14.7535), tensor(15.9684), tensor(16.1056)]],\n",
       " 29: [array([27, 40, 15]),\n",
       "  [tensor(14.7535), tensor(15.9684), tensor(16.1056)]],\n",
       " 30: [array([40, 28, 15]),\n",
       "  [tensor(16.0405), tensor(16.2174), tensor(16.3900)]],\n",
       " 31: [array([40, 28, 15]),\n",
       "  [tensor(16.0405), tensor(16.2174), tensor(16.3900)]],\n",
       " 32: [array([30, 28, 15]),\n",
       "  [tensor(15.0125), tensor(16.4764), tensor(16.3058)]],\n",
       " 33: [array([30, 28, 15]),\n",
       "  [tensor(15.0125), tensor(16.4764), tensor(16.3058)]],\n",
       " 34: [array([27, 15, 28]),\n",
       "  [tensor(15.2670), tensor(15.6751), tensor(15.5263)]],\n",
       " 35: [array([27, 15, 28]),\n",
       "  [tensor(15.2670), tensor(15.6751), tensor(15.5263)]],\n",
       " 36: [array([49, 24, 15]),\n",
       "  [tensor(15.2287), tensor(15.4019), tensor(15.7071)]],\n",
       " 37: [array([49, 24, 15]),\n",
       "  [tensor(15.2287), tensor(15.4019), tensor(15.7071)]],\n",
       " 38: [array([28, 40, 15]),\n",
       "  [tensor(15.5307), tensor(15.5540), tensor(17.2493)]],\n",
       " 39: [array([28, 40, 15]),\n",
       "  [tensor(15.5307), tensor(15.5540), tensor(17.2493)]],\n",
       " 40: [array([49, 24, 15]),\n",
       "  [tensor(15.7665), tensor(16.0705), tensor(16.9469)]],\n",
       " 41: [array([49, 24, 15]),\n",
       "  [tensor(15.7665), tensor(16.0705), tensor(16.9469)]],\n",
       " 42: [array([15, 49, 40]),\n",
       "  [tensor(14.2287), tensor(14.2414), tensor(15.3123)]],\n",
       " 43: [array([15, 49, 40]),\n",
       "  [tensor(14.2287), tensor(14.2414), tensor(15.3123)]],\n",
       " 44: [array([49, 28, 15]),\n",
       "  [tensor(16.3503), tensor(16.4212), tensor(17.7015)]],\n",
       " 45: [array([49, 28, 15]),\n",
       "  [tensor(16.3503), tensor(16.4212), tensor(17.7015)]],\n",
       " 46: [array([15, 28, 40]),\n",
       "  [tensor(15.9710), tensor(16.0744), tensor(16.4123)]],\n",
       " 47: [array([15, 28, 40]),\n",
       "  [tensor(15.9710), tensor(16.0744), tensor(16.4123)]],\n",
       " 48: [array([49, 28, 15]),\n",
       "  [tensor(15.9228), tensor(16.1415), tensor(16.5900)]],\n",
       " 49: [array([49, 28, 15]),\n",
       "  [tensor(15.9228), tensor(16.1415), tensor(16.5900)]],\n",
       " 50: [array([40, 28, 15]),\n",
       "  [tensor(14.8514), tensor(15.4625), tensor(16.3090)]]}"
      ]
     },
     "execution_count": 46,
     "metadata": {},
     "output_type": "execute_result"
    }
   ],
   "source": [
    "results"
   ]
  }
 ],
 "metadata": {
  "kernelspec": {
   "display_name": "Python 3",
   "language": "python",
   "name": "python3"
  },
  "language_info": {
   "codemirror_mode": {
    "name": "ipython",
    "version": 3
   },
   "file_extension": ".py",
   "mimetype": "text/x-python",
   "name": "python",
   "nbconvert_exporter": "python",
   "pygments_lexer": "ipython3",
   "version": "3.10.6"
  },
  "orig_nbformat": 4
 },
 "nbformat": 4,
 "nbformat_minor": 2
}
